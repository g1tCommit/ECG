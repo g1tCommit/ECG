{
 "cells": [
  {
   "cell_type": "markdown",
   "metadata": {},
   "source": [
    "# Методы глубокого обучения в задаче предсказания заболевания"
   ]
  },
  {
   "cell_type": "markdown",
   "metadata": {},
   "source": [
    "## Введение\n",
    "\n",
    "Сердечно-сосудистые заболевания являются ведущей причиной смертности во всем мире, которая в странах с высоким уровнем дохода уступает только онкологическим заболеваниям. Поэтому своевременное обнаружение патологий в работе сердца считается одной из главных задач современной медицины. Современные системы поддержки принятия решений, основанные на алгоритмах автоматической интерпретации ЭКГ, обещают значительную помощь медицинскому персоналу. \n",
    "\n",
    "В настоящее время существует множество решений машинного обучения, которые можно использовать для анализа и классификации данных ЭКГ. Однако основным недостатком этих результатов машинного обучения является использование эвристических, созданных вручную или спроектированных функций с неглубокой архитектурой изучения функций. Проблема заключается в возможности не найти наиболее подходящие признаки, которые обеспечат высокую точность классификации в этой задаче ЭКГ. Одно из предлагаемых решений - использовать архитектуры глубокого обучения, в которых первые слои сверточных нейронов ведут себя как экстракторы признаков, а в конечном итоге некоторые полностью связанные слои используются для принятия окончательного решения о классах ЭКГ.\n",
    "\n",
    "В данной работе используется самый большой на сегодняшний день бесплатный клинический набор данных ЭКГ PTB-XL [1]."
   ]
  },
  {
   "cell_type": "markdown",
   "metadata": {},
   "source": [
    "## Постановка учебно-практической задачи\n",
    "\n",
    "В данной работе мы будем решать задачу классификации. Задача классификации — это задача отнесения объекта к одному из заранее определенных классов на основании его формализованных признаков. В этой работе будет рассмотрено 5 диагностических суперклассов плюс еще один, для тех пациентов, у которых он не был поставлен:\n",
    "\n",
    "* NORM — нормальное экг \n",
    "* MI — Инфаркт миокарда\n",
    "* STTC — изменение ST / T\n",
    "* CD — нарушение проводимости\n",
    "* HYP — гипертрофия\n",
    "* UNKNOWN — диагностический суперкласс не определен"
   ]
  },
  {
   "cell_type": "markdown",
   "metadata": {},
   "source": [
    "Перед применением различых методов обучения нам будет необходимо предварительно обработать данные. Нужно обработать пропущенные значения, отобрать необходимые нам признаки, а так же дополнительно обработать категориальные признаки."
   ]
  },
  {
   "cell_type": "markdown",
   "metadata": {},
   "source": [
    "### Предобработка данных"
   ]
  },
  {
   "cell_type": "code",
   "execution_count": 1,
   "metadata": {},
   "outputs": [],
   "source": [
    "import tensorflow as tf\n",
    "import sklearn\n",
    "from sklearn.metrics import confusion_matrix\n",
    "import pandas as pd\n",
    "import numpy as np\n",
    "import wfdb\n",
    "import ast\n",
    "import seaborn as sns "
   ]
  },
  {
   "cell_type": "markdown",
   "metadata": {},
   "source": [
    "#### Чтение данных:"
   ]
  },
  {
   "cell_type": "markdown",
   "metadata": {},
   "source": [
    "С помощью функции load_raw_data и модуля wfdb загрузим данные сигналов с 12 датчиков в виде numpy.array и сохраним в X. В Y будем хранить набор данных PTB-XL."
   ]
  },
  {
   "cell_type": "code",
   "execution_count": 2,
   "metadata": {},
   "outputs": [],
   "source": [
    "def load_raw_data(df, sampling_rate, path):\n",
    "    if sampling_rate == 100:\n",
    "        data = [wfdb.rdsamp(path + f) for f in df.filename_lr]\n",
    "    else:\n",
    "        data = [wfdb.rdsamp(path + f) for f in df.filename_hr]\n",
    "    data = np.array([signal for signal, meta in data])\n",
    "    return data\n",
    "\n",
    "path = './/ecg/ptb-xl-a-large-publicly-available-electrocardiography-dataset-1.0.1/'\n",
    "sampling_rate=100\n",
    "\n",
    "Y = pd.read_csv(path + 'ptbxl_database.csv', index_col = 'ecg_id')\n",
    "Y.scp_codes = Y.scp_codes.apply(lambda x: ast.literal_eval(x)) \n",
    "\n",
    "X = load_raw_data(Y, sampling_rate, path)\n",
    "\n",
    "agg_df = pd.read_csv(path + 'scp_statements.csv', index_col = 0)  \n",
    "agg_df = agg_df[agg_df.diagnostic == 1]\n",
    "\n",
    "def aggregate_diagnostic(y_dic):\n",
    "    tmp = []\n",
    "    for key in y_dic.keys():\n",
    "        if key in agg_df.index:\n",
    "            tmp.append(agg_df.loc[key].diagnostic_class)\n",
    "    return list(set(tmp))"
   ]
  },
  {
   "cell_type": "markdown",
   "metadata": {},
   "source": [
    "#### Отбор признаков:"
   ]
  },
  {
   "cell_type": "markdown",
   "metadata": {},
   "source": [
    "Добавим столбец diagnostic_superclass:"
   ]
  },
  {
   "cell_type": "code",
   "execution_count": 3,
   "metadata": {},
   "outputs": [
    {
     "data": {
      "text/plain": [
       "ecg_id\n",
       "1        [NORM]\n",
       "2        [NORM]\n",
       "3        [NORM]\n",
       "4        [NORM]\n",
       "5        [NORM]\n",
       "          ...  \n",
       "21833    [STTC]\n",
       "21834    [NORM]\n",
       "21835    [STTC]\n",
       "21836    [NORM]\n",
       "21837    [NORM]\n",
       "Name: scp_codes, Length: 21837, dtype: object"
      ]
     },
     "execution_count": 3,
     "metadata": {},
     "output_type": "execute_result"
    }
   ],
   "source": [
    "z = Y.scp_codes.apply(aggregate_diagnostic)\n",
    "z"
   ]
  },
  {
   "cell_type": "markdown",
   "metadata": {},
   "source": [
    "Так как не для всех пациентов был обределен диагностический суперкласс, заполним пропуски значением UNKNOWN."
   ]
  },
  {
   "cell_type": "code",
   "execution_count": 4,
   "metadata": {},
   "outputs": [],
   "source": [
    "diagnostic_superclass = []\n",
    "for i in range(1, 21838):\n",
    "    if z[i] != []:\n",
    "        diagnostic_superclass.append(z[i][0])\n",
    "    else:\n",
    "        diagnostic_superclass.append('UNKNOWN')"
   ]
  },
  {
   "cell_type": "code",
   "execution_count": 5,
   "metadata": {},
   "outputs": [],
   "source": [
    "diagnostic_superclass = pd.Series(diagnostic_superclass , name = 'diagnostic_superclass')\n",
    "diagnostic_superclass.index = range(1,21838)"
   ]
  },
  {
   "cell_type": "markdown",
   "metadata": {},
   "source": [
    "Добавим столбец diagnostic_superclass к набору данных PTB-XL."
   ]
  },
  {
   "cell_type": "code",
   "execution_count": 6,
   "metadata": {},
   "outputs": [
    {
     "data": {
      "text/html": [
       "<div>\n",
       "<style scoped>\n",
       "    .dataframe tbody tr th:only-of-type {\n",
       "        vertical-align: middle;\n",
       "    }\n",
       "\n",
       "    .dataframe tbody tr th {\n",
       "        vertical-align: top;\n",
       "    }\n",
       "\n",
       "    .dataframe thead th {\n",
       "        text-align: right;\n",
       "    }\n",
       "</style>\n",
       "<table border=\"1\" class=\"dataframe\">\n",
       "  <thead>\n",
       "    <tr style=\"text-align: right;\">\n",
       "      <th></th>\n",
       "      <th>patient_id</th>\n",
       "      <th>age</th>\n",
       "      <th>sex</th>\n",
       "      <th>height</th>\n",
       "      <th>weight</th>\n",
       "      <th>nurse</th>\n",
       "      <th>site</th>\n",
       "      <th>device</th>\n",
       "      <th>recording_date</th>\n",
       "      <th>report</th>\n",
       "      <th>...</th>\n",
       "      <th>baseline_drift</th>\n",
       "      <th>static_noise</th>\n",
       "      <th>burst_noise</th>\n",
       "      <th>electrodes_problems</th>\n",
       "      <th>extra_beats</th>\n",
       "      <th>pacemaker</th>\n",
       "      <th>strat_fold</th>\n",
       "      <th>filename_lr</th>\n",
       "      <th>filename_hr</th>\n",
       "      <th>diagnostic_superclass</th>\n",
       "    </tr>\n",
       "  </thead>\n",
       "  <tbody>\n",
       "    <tr>\n",
       "      <th>1</th>\n",
       "      <td>15709.0</td>\n",
       "      <td>56.0</td>\n",
       "      <td>1</td>\n",
       "      <td>NaN</td>\n",
       "      <td>63.0</td>\n",
       "      <td>2.0</td>\n",
       "      <td>0.0</td>\n",
       "      <td>CS-12   E</td>\n",
       "      <td>1984-11-09 09:17:34</td>\n",
       "      <td>sinusrhythmus periphere niederspannung</td>\n",
       "      <td>...</td>\n",
       "      <td>NaN</td>\n",
       "      <td>, I-V1,</td>\n",
       "      <td>NaN</td>\n",
       "      <td>NaN</td>\n",
       "      <td>NaN</td>\n",
       "      <td>NaN</td>\n",
       "      <td>3</td>\n",
       "      <td>records100/00000/00001_lr</td>\n",
       "      <td>records500/00000/00001_hr</td>\n",
       "      <td>NORM</td>\n",
       "    </tr>\n",
       "    <tr>\n",
       "      <th>2</th>\n",
       "      <td>13243.0</td>\n",
       "      <td>19.0</td>\n",
       "      <td>0</td>\n",
       "      <td>NaN</td>\n",
       "      <td>70.0</td>\n",
       "      <td>2.0</td>\n",
       "      <td>0.0</td>\n",
       "      <td>CS-12   E</td>\n",
       "      <td>1984-11-14 12:55:37</td>\n",
       "      <td>sinusbradykardie sonst normales ekg</td>\n",
       "      <td>...</td>\n",
       "      <td>NaN</td>\n",
       "      <td>NaN</td>\n",
       "      <td>NaN</td>\n",
       "      <td>NaN</td>\n",
       "      <td>NaN</td>\n",
       "      <td>NaN</td>\n",
       "      <td>2</td>\n",
       "      <td>records100/00000/00002_lr</td>\n",
       "      <td>records500/00000/00002_hr</td>\n",
       "      <td>NORM</td>\n",
       "    </tr>\n",
       "    <tr>\n",
       "      <th>3</th>\n",
       "      <td>20372.0</td>\n",
       "      <td>37.0</td>\n",
       "      <td>1</td>\n",
       "      <td>NaN</td>\n",
       "      <td>69.0</td>\n",
       "      <td>2.0</td>\n",
       "      <td>0.0</td>\n",
       "      <td>CS-12   E</td>\n",
       "      <td>1984-11-15 12:49:10</td>\n",
       "      <td>sinusrhythmus normales ekg</td>\n",
       "      <td>...</td>\n",
       "      <td>NaN</td>\n",
       "      <td>NaN</td>\n",
       "      <td>NaN</td>\n",
       "      <td>NaN</td>\n",
       "      <td>NaN</td>\n",
       "      <td>NaN</td>\n",
       "      <td>5</td>\n",
       "      <td>records100/00000/00003_lr</td>\n",
       "      <td>records500/00000/00003_hr</td>\n",
       "      <td>NORM</td>\n",
       "    </tr>\n",
       "    <tr>\n",
       "      <th>4</th>\n",
       "      <td>17014.0</td>\n",
       "      <td>24.0</td>\n",
       "      <td>0</td>\n",
       "      <td>NaN</td>\n",
       "      <td>82.0</td>\n",
       "      <td>2.0</td>\n",
       "      <td>0.0</td>\n",
       "      <td>CS-12   E</td>\n",
       "      <td>1984-11-15 13:44:57</td>\n",
       "      <td>sinusrhythmus normales ekg</td>\n",
       "      <td>...</td>\n",
       "      <td>, II,III,AVF</td>\n",
       "      <td>NaN</td>\n",
       "      <td>NaN</td>\n",
       "      <td>NaN</td>\n",
       "      <td>NaN</td>\n",
       "      <td>NaN</td>\n",
       "      <td>3</td>\n",
       "      <td>records100/00000/00004_lr</td>\n",
       "      <td>records500/00000/00004_hr</td>\n",
       "      <td>NORM</td>\n",
       "    </tr>\n",
       "    <tr>\n",
       "      <th>5</th>\n",
       "      <td>17448.0</td>\n",
       "      <td>19.0</td>\n",
       "      <td>1</td>\n",
       "      <td>NaN</td>\n",
       "      <td>70.0</td>\n",
       "      <td>2.0</td>\n",
       "      <td>0.0</td>\n",
       "      <td>CS-12   E</td>\n",
       "      <td>1984-11-17 10:43:15</td>\n",
       "      <td>sinusrhythmus normales ekg</td>\n",
       "      <td>...</td>\n",
       "      <td>, III,AVR,AVF</td>\n",
       "      <td>NaN</td>\n",
       "      <td>NaN</td>\n",
       "      <td>NaN</td>\n",
       "      <td>NaN</td>\n",
       "      <td>NaN</td>\n",
       "      <td>4</td>\n",
       "      <td>records100/00000/00005_lr</td>\n",
       "      <td>records500/00000/00005_hr</td>\n",
       "      <td>NORM</td>\n",
       "    </tr>\n",
       "  </tbody>\n",
       "</table>\n",
       "<p>5 rows × 28 columns</p>\n",
       "</div>"
      ],
      "text/plain": [
       "   patient_id   age  sex  height  weight  nurse  site     device  \\\n",
       "1     15709.0  56.0    1     NaN    63.0    2.0   0.0  CS-12   E   \n",
       "2     13243.0  19.0    0     NaN    70.0    2.0   0.0  CS-12   E   \n",
       "3     20372.0  37.0    1     NaN    69.0    2.0   0.0  CS-12   E   \n",
       "4     17014.0  24.0    0     NaN    82.0    2.0   0.0  CS-12   E   \n",
       "5     17448.0  19.0    1     NaN    70.0    2.0   0.0  CS-12   E   \n",
       "\n",
       "        recording_date                                  report  ...  \\\n",
       "1  1984-11-09 09:17:34  sinusrhythmus periphere niederspannung  ...   \n",
       "2  1984-11-14 12:55:37     sinusbradykardie sonst normales ekg  ...   \n",
       "3  1984-11-15 12:49:10              sinusrhythmus normales ekg  ...   \n",
       "4  1984-11-15 13:44:57              sinusrhythmus normales ekg  ...   \n",
       "5  1984-11-17 10:43:15              sinusrhythmus normales ekg  ...   \n",
       "\n",
       "   baseline_drift static_noise burst_noise electrodes_problems  extra_beats  \\\n",
       "1             NaN    , I-V1,           NaN                 NaN          NaN   \n",
       "2             NaN          NaN         NaN                 NaN          NaN   \n",
       "3             NaN          NaN         NaN                 NaN          NaN   \n",
       "4    , II,III,AVF          NaN         NaN                 NaN          NaN   \n",
       "5   , III,AVR,AVF          NaN         NaN                 NaN          NaN   \n",
       "\n",
       "   pacemaker  strat_fold                filename_lr  \\\n",
       "1        NaN           3  records100/00000/00001_lr   \n",
       "2        NaN           2  records100/00000/00002_lr   \n",
       "3        NaN           5  records100/00000/00003_lr   \n",
       "4        NaN           3  records100/00000/00004_lr   \n",
       "5        NaN           4  records100/00000/00005_lr   \n",
       "\n",
       "                 filename_hr diagnostic_superclass  \n",
       "1  records500/00000/00001_hr                  NORM  \n",
       "2  records500/00000/00002_hr                  NORM  \n",
       "3  records500/00000/00003_hr                  NORM  \n",
       "4  records500/00000/00004_hr                  NORM  \n",
       "5  records500/00000/00005_hr                  NORM  \n",
       "\n",
       "[5 rows x 28 columns]"
      ]
     },
     "execution_count": 6,
     "metadata": {},
     "output_type": "execute_result"
    }
   ],
   "source": [
    "Y = pd.concat((Y, diagnostic_superclass), axis=1)\n",
    "Y.head()"
   ]
  },
  {
   "cell_type": "markdown",
   "metadata": {},
   "source": [
    "Для задачи предсказания типа ритма нам понадобятся только столбцы 'age', 'sex', 'height', 'weight', 'diagnostic_superclass' и данные 2-го датчика для каждого пациента."
   ]
  },
  {
   "cell_type": "code",
   "execution_count": 7,
   "metadata": {},
   "outputs": [
    {
     "data": {
      "text/html": [
       "<div>\n",
       "<style scoped>\n",
       "    .dataframe tbody tr th:only-of-type {\n",
       "        vertical-align: middle;\n",
       "    }\n",
       "\n",
       "    .dataframe tbody tr th {\n",
       "        vertical-align: top;\n",
       "    }\n",
       "\n",
       "    .dataframe thead th {\n",
       "        text-align: right;\n",
       "    }\n",
       "</style>\n",
       "<table border=\"1\" class=\"dataframe\">\n",
       "  <thead>\n",
       "    <tr style=\"text-align: right;\">\n",
       "      <th></th>\n",
       "      <th>age</th>\n",
       "      <th>sex</th>\n",
       "      <th>height</th>\n",
       "      <th>weight</th>\n",
       "      <th>diagnostic_superclass</th>\n",
       "    </tr>\n",
       "  </thead>\n",
       "  <tbody>\n",
       "    <tr>\n",
       "      <th>1</th>\n",
       "      <td>56.0</td>\n",
       "      <td>1</td>\n",
       "      <td>NaN</td>\n",
       "      <td>63.0</td>\n",
       "      <td>NORM</td>\n",
       "    </tr>\n",
       "    <tr>\n",
       "      <th>2</th>\n",
       "      <td>19.0</td>\n",
       "      <td>0</td>\n",
       "      <td>NaN</td>\n",
       "      <td>70.0</td>\n",
       "      <td>NORM</td>\n",
       "    </tr>\n",
       "    <tr>\n",
       "      <th>3</th>\n",
       "      <td>37.0</td>\n",
       "      <td>1</td>\n",
       "      <td>NaN</td>\n",
       "      <td>69.0</td>\n",
       "      <td>NORM</td>\n",
       "    </tr>\n",
       "    <tr>\n",
       "      <th>4</th>\n",
       "      <td>24.0</td>\n",
       "      <td>0</td>\n",
       "      <td>NaN</td>\n",
       "      <td>82.0</td>\n",
       "      <td>NORM</td>\n",
       "    </tr>\n",
       "    <tr>\n",
       "      <th>5</th>\n",
       "      <td>19.0</td>\n",
       "      <td>1</td>\n",
       "      <td>NaN</td>\n",
       "      <td>70.0</td>\n",
       "      <td>NORM</td>\n",
       "    </tr>\n",
       "  </tbody>\n",
       "</table>\n",
       "</div>"
      ],
      "text/plain": [
       "    age  sex  height  weight diagnostic_superclass\n",
       "1  56.0    1     NaN    63.0                  NORM\n",
       "2  19.0    0     NaN    70.0                  NORM\n",
       "3  37.0    1     NaN    69.0                  NORM\n",
       "4  24.0    0     NaN    82.0                  NORM\n",
       "5  19.0    1     NaN    70.0                  NORM"
      ]
     },
     "execution_count": 7,
     "metadata": {},
     "output_type": "execute_result"
    }
   ],
   "source": [
    "Y = Y[['age', 'sex', 'height', 'weight', 'diagnostic_superclass']]\n",
    "Y.head()"
   ]
  },
  {
   "cell_type": "code",
   "execution_count": 8,
   "metadata": {},
   "outputs": [
    {
     "data": {
      "text/plain": [
       "array(['NORM', 'MI', 'UNKNOWN', 'STTC', 'HYP', 'CD'], dtype=object)"
      ]
     },
     "execution_count": 8,
     "metadata": {},
     "output_type": "execute_result"
    }
   ],
   "source": [
    "Y['diagnostic_superclass'].unique()"
   ]
  },
  {
   "cell_type": "code",
   "execution_count": 9,
   "metadata": {},
   "outputs": [
    {
     "data": {
      "text/plain": [
       "(21837, 1000, 12)"
      ]
     },
     "execution_count": 9,
     "metadata": {},
     "output_type": "execute_result"
    }
   ],
   "source": [
    "X.shape"
   ]
  },
  {
   "cell_type": "markdown",
   "metadata": {},
   "source": [
    "оставим в X только данные сигнала, записанные на второй датчик:"
   ]
  },
  {
   "cell_type": "code",
   "execution_count": 10,
   "metadata": {},
   "outputs": [
    {
     "data": {
      "text/plain": [
       "array([[-0.055, -0.051, -0.044, ...,  0.   ,  0.004, -0.031],\n",
       "       [ 0.138,  0.116,  0.092, ...,  0.398,  0.057, -0.056],\n",
       "       [-0.079, -0.07 , -0.057, ..., -0.226, -0.266, -0.288],\n",
       "       ...,\n",
       "       [ 0.024,  0.066, -0.006, ..., -0.062,  0.026,  0.53 ],\n",
       "       [-0.057, -0.029,  0.045, ...,  0.07 ,  0.082,  0.051],\n",
       "       [-0.025, -0.029, -0.042, ...,  0.012,  0.022, -0.007]])"
      ]
     },
     "execution_count": 10,
     "metadata": {},
     "output_type": "execute_result"
    }
   ],
   "source": [
    "X = X[:,:,1]\n",
    "X"
   ]
  },
  {
   "cell_type": "code",
   "execution_count": 11,
   "metadata": {},
   "outputs": [],
   "source": [
    "X = pd.DataFrame(X)\n",
    "X.index = range(1,21838)"
   ]
  },
  {
   "cell_type": "markdown",
   "metadata": {},
   "source": [
    "Добавим к набору данных PTB-XL сигналы, записанные в X."
   ]
  },
  {
   "cell_type": "code",
   "execution_count": 12,
   "metadata": {},
   "outputs": [
    {
     "data": {
      "text/html": [
       "<div>\n",
       "<style scoped>\n",
       "    .dataframe tbody tr th:only-of-type {\n",
       "        vertical-align: middle;\n",
       "    }\n",
       "\n",
       "    .dataframe tbody tr th {\n",
       "        vertical-align: top;\n",
       "    }\n",
       "\n",
       "    .dataframe thead th {\n",
       "        text-align: right;\n",
       "    }\n",
       "</style>\n",
       "<table border=\"1\" class=\"dataframe\">\n",
       "  <thead>\n",
       "    <tr style=\"text-align: right;\">\n",
       "      <th></th>\n",
       "      <th>age</th>\n",
       "      <th>sex</th>\n",
       "      <th>height</th>\n",
       "      <th>weight</th>\n",
       "      <th>diagnostic_superclass</th>\n",
       "      <th>0</th>\n",
       "      <th>1</th>\n",
       "      <th>2</th>\n",
       "      <th>3</th>\n",
       "      <th>4</th>\n",
       "      <th>...</th>\n",
       "      <th>990</th>\n",
       "      <th>991</th>\n",
       "      <th>992</th>\n",
       "      <th>993</th>\n",
       "      <th>994</th>\n",
       "      <th>995</th>\n",
       "      <th>996</th>\n",
       "      <th>997</th>\n",
       "      <th>998</th>\n",
       "      <th>999</th>\n",
       "    </tr>\n",
       "  </thead>\n",
       "  <tbody>\n",
       "    <tr>\n",
       "      <th>1</th>\n",
       "      <td>56.0</td>\n",
       "      <td>1</td>\n",
       "      <td>NaN</td>\n",
       "      <td>63.0</td>\n",
       "      <td>NORM</td>\n",
       "      <td>-0.055</td>\n",
       "      <td>-0.051</td>\n",
       "      <td>-0.044</td>\n",
       "      <td>-0.038</td>\n",
       "      <td>-0.031</td>\n",
       "      <td>...</td>\n",
       "      <td>0.189</td>\n",
       "      <td>0.152</td>\n",
       "      <td>0.093</td>\n",
       "      <td>0.070</td>\n",
       "      <td>0.023</td>\n",
       "      <td>0.028</td>\n",
       "      <td>0.021</td>\n",
       "      <td>0.000</td>\n",
       "      <td>0.004</td>\n",
       "      <td>-0.031</td>\n",
       "    </tr>\n",
       "    <tr>\n",
       "      <th>2</th>\n",
       "      <td>19.0</td>\n",
       "      <td>0</td>\n",
       "      <td>NaN</td>\n",
       "      <td>70.0</td>\n",
       "      <td>NORM</td>\n",
       "      <td>0.138</td>\n",
       "      <td>0.116</td>\n",
       "      <td>0.092</td>\n",
       "      <td>0.089</td>\n",
       "      <td>0.083</td>\n",
       "      <td>...</td>\n",
       "      <td>0.051</td>\n",
       "      <td>-0.019</td>\n",
       "      <td>0.029</td>\n",
       "      <td>0.034</td>\n",
       "      <td>0.792</td>\n",
       "      <td>1.320</td>\n",
       "      <td>0.773</td>\n",
       "      <td>0.398</td>\n",
       "      <td>0.057</td>\n",
       "      <td>-0.056</td>\n",
       "    </tr>\n",
       "    <tr>\n",
       "      <th>3</th>\n",
       "      <td>37.0</td>\n",
       "      <td>1</td>\n",
       "      <td>NaN</td>\n",
       "      <td>69.0</td>\n",
       "      <td>NORM</td>\n",
       "      <td>-0.079</td>\n",
       "      <td>-0.070</td>\n",
       "      <td>-0.057</td>\n",
       "      <td>-0.120</td>\n",
       "      <td>-0.061</td>\n",
       "      <td>...</td>\n",
       "      <td>-0.186</td>\n",
       "      <td>-0.202</td>\n",
       "      <td>-0.208</td>\n",
       "      <td>-0.228</td>\n",
       "      <td>-0.251</td>\n",
       "      <td>-0.240</td>\n",
       "      <td>-0.234</td>\n",
       "      <td>-0.226</td>\n",
       "      <td>-0.266</td>\n",
       "      <td>-0.288</td>\n",
       "    </tr>\n",
       "    <tr>\n",
       "      <th>4</th>\n",
       "      <td>24.0</td>\n",
       "      <td>0</td>\n",
       "      <td>NaN</td>\n",
       "      <td>82.0</td>\n",
       "      <td>NORM</td>\n",
       "      <td>-0.138</td>\n",
       "      <td>-0.156</td>\n",
       "      <td>-0.153</td>\n",
       "      <td>-0.161</td>\n",
       "      <td>-0.193</td>\n",
       "      <td>...</td>\n",
       "      <td>-0.478</td>\n",
       "      <td>-1.141</td>\n",
       "      <td>-1.284</td>\n",
       "      <td>-1.161</td>\n",
       "      <td>-0.981</td>\n",
       "      <td>-0.965</td>\n",
       "      <td>-0.928</td>\n",
       "      <td>-0.915</td>\n",
       "      <td>-0.910</td>\n",
       "      <td>-0.899</td>\n",
       "    </tr>\n",
       "    <tr>\n",
       "      <th>5</th>\n",
       "      <td>19.0</td>\n",
       "      <td>1</td>\n",
       "      <td>NaN</td>\n",
       "      <td>70.0</td>\n",
       "      <td>NORM</td>\n",
       "      <td>-0.574</td>\n",
       "      <td>-0.575</td>\n",
       "      <td>-0.584</td>\n",
       "      <td>-0.592</td>\n",
       "      <td>-0.588</td>\n",
       "      <td>...</td>\n",
       "      <td>0.241</td>\n",
       "      <td>0.249</td>\n",
       "      <td>0.238</td>\n",
       "      <td>0.231</td>\n",
       "      <td>0.218</td>\n",
       "      <td>0.180</td>\n",
       "      <td>0.164</td>\n",
       "      <td>0.160</td>\n",
       "      <td>0.157</td>\n",
       "      <td>0.148</td>\n",
       "    </tr>\n",
       "  </tbody>\n",
       "</table>\n",
       "<p>5 rows × 1005 columns</p>\n",
       "</div>"
      ],
      "text/plain": [
       "    age  sex  height  weight diagnostic_superclass      0      1      2  \\\n",
       "1  56.0    1     NaN    63.0                  NORM -0.055 -0.051 -0.044   \n",
       "2  19.0    0     NaN    70.0                  NORM  0.138  0.116  0.092   \n",
       "3  37.0    1     NaN    69.0                  NORM -0.079 -0.070 -0.057   \n",
       "4  24.0    0     NaN    82.0                  NORM -0.138 -0.156 -0.153   \n",
       "5  19.0    1     NaN    70.0                  NORM -0.574 -0.575 -0.584   \n",
       "\n",
       "       3      4  ...    990    991    992    993    994    995    996    997  \\\n",
       "1 -0.038 -0.031  ...  0.189  0.152  0.093  0.070  0.023  0.028  0.021  0.000   \n",
       "2  0.089  0.083  ...  0.051 -0.019  0.029  0.034  0.792  1.320  0.773  0.398   \n",
       "3 -0.120 -0.061  ... -0.186 -0.202 -0.208 -0.228 -0.251 -0.240 -0.234 -0.226   \n",
       "4 -0.161 -0.193  ... -0.478 -1.141 -1.284 -1.161 -0.981 -0.965 -0.928 -0.915   \n",
       "5 -0.592 -0.588  ...  0.241  0.249  0.238  0.231  0.218  0.180  0.164  0.160   \n",
       "\n",
       "     998    999  \n",
       "1  0.004 -0.031  \n",
       "2  0.057 -0.056  \n",
       "3 -0.266 -0.288  \n",
       "4 -0.910 -0.899  \n",
       "5  0.157  0.148  \n",
       "\n",
       "[5 rows x 1005 columns]"
      ]
     },
     "execution_count": 12,
     "metadata": {},
     "output_type": "execute_result"
    }
   ],
   "source": [
    "Y = pd.concat((Y, X), axis=1)\n",
    "Y.head()"
   ]
  },
  {
   "cell_type": "markdown",
   "metadata": {},
   "source": [
    "#### Обработка пропущенных значений:"
   ]
  },
  {
   "cell_type": "code",
   "execution_count": 13,
   "metadata": {
    "scrolled": true
   },
   "outputs": [
    {
     "data": {
      "text/plain": [
       "age                         89\n",
       "sex                          0\n",
       "height                   14854\n",
       "weight                   12408\n",
       "diagnostic_superclass        0\n",
       "dtype: int64"
      ]
     },
     "execution_count": 13,
     "metadata": {},
     "output_type": "execute_result"
    }
   ],
   "source": [
    "Y[['age','sex','height','weight','diagnostic_superclass']].isna().sum()"
   ]
  },
  {
   "cell_type": "markdown",
   "metadata": {},
   "source": [
    "Заменим все пропущенные значения в столцах age, height, weight на -1."
   ]
  },
  {
   "cell_type": "code",
   "execution_count": 14,
   "metadata": {},
   "outputs": [],
   "source": [
    "Y['age'].fillna(-1, inplace=True)\n",
    "Y['height'].fillna(-1, inplace=True)\n",
    "Y['weight'].fillna(-1, inplace=True)"
   ]
  },
  {
   "cell_type": "code",
   "execution_count": 15,
   "metadata": {},
   "outputs": [
    {
     "data": {
      "text/plain": [
       "age                      0\n",
       "sex                      0\n",
       "height                   0\n",
       "weight                   0\n",
       "diagnostic_superclass    0\n",
       "dtype: int64"
      ]
     },
     "execution_count": 15,
     "metadata": {},
     "output_type": "execute_result"
    }
   ],
   "source": [
    "Y[['age','sex','height','weight','diagnostic_superclass']].isna().sum()"
   ]
  },
  {
   "cell_type": "markdown",
   "metadata": {},
   "source": [
    "#### Обработка категориальных признаков:"
   ]
  },
  {
   "cell_type": "code",
   "execution_count": 16,
   "metadata": {},
   "outputs": [
    {
     "data": {
      "text/plain": [
       "dtype('O')"
      ]
     },
     "execution_count": 16,
     "metadata": {},
     "output_type": "execute_result"
    }
   ],
   "source": [
    "Y['diagnostic_superclass'].dtype"
   ]
  },
  {
   "cell_type": "code",
   "execution_count": 17,
   "metadata": {},
   "outputs": [],
   "source": [
    "Y['diagnostic_superclass'] = Y['diagnostic_superclass'].astype('category')"
   ]
  },
  {
   "cell_type": "markdown",
   "metadata": {},
   "source": [
    "### Визуализация:"
   ]
  },
  {
   "cell_type": "code",
   "execution_count": 18,
   "metadata": {},
   "outputs": [
    {
     "data": {
      "text/html": [
       "<div>\n",
       "<style scoped>\n",
       "    .dataframe tbody tr th:only-of-type {\n",
       "        vertical-align: middle;\n",
       "    }\n",
       "\n",
       "    .dataframe tbody tr th {\n",
       "        vertical-align: top;\n",
       "    }\n",
       "\n",
       "    .dataframe thead th {\n",
       "        text-align: right;\n",
       "    }\n",
       "</style>\n",
       "<table border=\"1\" class=\"dataframe\">\n",
       "  <thead>\n",
       "    <tr style=\"text-align: right;\">\n",
       "      <th></th>\n",
       "      <th>age</th>\n",
       "      <th>sex</th>\n",
       "      <th>height</th>\n",
       "      <th>weight</th>\n",
       "      <th>diagnostic_superclass</th>\n",
       "      <th>0</th>\n",
       "      <th>1</th>\n",
       "      <th>2</th>\n",
       "      <th>3</th>\n",
       "      <th>4</th>\n",
       "      <th>...</th>\n",
       "      <th>990</th>\n",
       "      <th>991</th>\n",
       "      <th>992</th>\n",
       "      <th>993</th>\n",
       "      <th>994</th>\n",
       "      <th>995</th>\n",
       "      <th>996</th>\n",
       "      <th>997</th>\n",
       "      <th>998</th>\n",
       "      <th>999</th>\n",
       "    </tr>\n",
       "  </thead>\n",
       "  <tbody>\n",
       "    <tr>\n",
       "      <th>1</th>\n",
       "      <td>56.0</td>\n",
       "      <td>1</td>\n",
       "      <td>-1.0</td>\n",
       "      <td>63.0</td>\n",
       "      <td>NORM</td>\n",
       "      <td>-0.055</td>\n",
       "      <td>-0.051</td>\n",
       "      <td>-0.044</td>\n",
       "      <td>-0.038</td>\n",
       "      <td>-0.031</td>\n",
       "      <td>...</td>\n",
       "      <td>0.189</td>\n",
       "      <td>0.152</td>\n",
       "      <td>0.093</td>\n",
       "      <td>0.070</td>\n",
       "      <td>0.023</td>\n",
       "      <td>0.028</td>\n",
       "      <td>0.021</td>\n",
       "      <td>0.000</td>\n",
       "      <td>0.004</td>\n",
       "      <td>-0.031</td>\n",
       "    </tr>\n",
       "    <tr>\n",
       "      <th>2</th>\n",
       "      <td>19.0</td>\n",
       "      <td>0</td>\n",
       "      <td>-1.0</td>\n",
       "      <td>70.0</td>\n",
       "      <td>NORM</td>\n",
       "      <td>0.138</td>\n",
       "      <td>0.116</td>\n",
       "      <td>0.092</td>\n",
       "      <td>0.089</td>\n",
       "      <td>0.083</td>\n",
       "      <td>...</td>\n",
       "      <td>0.051</td>\n",
       "      <td>-0.019</td>\n",
       "      <td>0.029</td>\n",
       "      <td>0.034</td>\n",
       "      <td>0.792</td>\n",
       "      <td>1.320</td>\n",
       "      <td>0.773</td>\n",
       "      <td>0.398</td>\n",
       "      <td>0.057</td>\n",
       "      <td>-0.056</td>\n",
       "    </tr>\n",
       "    <tr>\n",
       "      <th>3</th>\n",
       "      <td>37.0</td>\n",
       "      <td>1</td>\n",
       "      <td>-1.0</td>\n",
       "      <td>69.0</td>\n",
       "      <td>NORM</td>\n",
       "      <td>-0.079</td>\n",
       "      <td>-0.070</td>\n",
       "      <td>-0.057</td>\n",
       "      <td>-0.120</td>\n",
       "      <td>-0.061</td>\n",
       "      <td>...</td>\n",
       "      <td>-0.186</td>\n",
       "      <td>-0.202</td>\n",
       "      <td>-0.208</td>\n",
       "      <td>-0.228</td>\n",
       "      <td>-0.251</td>\n",
       "      <td>-0.240</td>\n",
       "      <td>-0.234</td>\n",
       "      <td>-0.226</td>\n",
       "      <td>-0.266</td>\n",
       "      <td>-0.288</td>\n",
       "    </tr>\n",
       "    <tr>\n",
       "      <th>4</th>\n",
       "      <td>24.0</td>\n",
       "      <td>0</td>\n",
       "      <td>-1.0</td>\n",
       "      <td>82.0</td>\n",
       "      <td>NORM</td>\n",
       "      <td>-0.138</td>\n",
       "      <td>-0.156</td>\n",
       "      <td>-0.153</td>\n",
       "      <td>-0.161</td>\n",
       "      <td>-0.193</td>\n",
       "      <td>...</td>\n",
       "      <td>-0.478</td>\n",
       "      <td>-1.141</td>\n",
       "      <td>-1.284</td>\n",
       "      <td>-1.161</td>\n",
       "      <td>-0.981</td>\n",
       "      <td>-0.965</td>\n",
       "      <td>-0.928</td>\n",
       "      <td>-0.915</td>\n",
       "      <td>-0.910</td>\n",
       "      <td>-0.899</td>\n",
       "    </tr>\n",
       "    <tr>\n",
       "      <th>5</th>\n",
       "      <td>19.0</td>\n",
       "      <td>1</td>\n",
       "      <td>-1.0</td>\n",
       "      <td>70.0</td>\n",
       "      <td>NORM</td>\n",
       "      <td>-0.574</td>\n",
       "      <td>-0.575</td>\n",
       "      <td>-0.584</td>\n",
       "      <td>-0.592</td>\n",
       "      <td>-0.588</td>\n",
       "      <td>...</td>\n",
       "      <td>0.241</td>\n",
       "      <td>0.249</td>\n",
       "      <td>0.238</td>\n",
       "      <td>0.231</td>\n",
       "      <td>0.218</td>\n",
       "      <td>0.180</td>\n",
       "      <td>0.164</td>\n",
       "      <td>0.160</td>\n",
       "      <td>0.157</td>\n",
       "      <td>0.148</td>\n",
       "    </tr>\n",
       "  </tbody>\n",
       "</table>\n",
       "<p>5 rows × 1005 columns</p>\n",
       "</div>"
      ],
      "text/plain": [
       "    age  sex  height  weight diagnostic_superclass      0      1      2  \\\n",
       "1  56.0    1    -1.0    63.0                  NORM -0.055 -0.051 -0.044   \n",
       "2  19.0    0    -1.0    70.0                  NORM  0.138  0.116  0.092   \n",
       "3  37.0    1    -1.0    69.0                  NORM -0.079 -0.070 -0.057   \n",
       "4  24.0    0    -1.0    82.0                  NORM -0.138 -0.156 -0.153   \n",
       "5  19.0    1    -1.0    70.0                  NORM -0.574 -0.575 -0.584   \n",
       "\n",
       "       3      4  ...    990    991    992    993    994    995    996    997  \\\n",
       "1 -0.038 -0.031  ...  0.189  0.152  0.093  0.070  0.023  0.028  0.021  0.000   \n",
       "2  0.089  0.083  ...  0.051 -0.019  0.029  0.034  0.792  1.320  0.773  0.398   \n",
       "3 -0.120 -0.061  ... -0.186 -0.202 -0.208 -0.228 -0.251 -0.240 -0.234 -0.226   \n",
       "4 -0.161 -0.193  ... -0.478 -1.141 -1.284 -1.161 -0.981 -0.965 -0.928 -0.915   \n",
       "5 -0.592 -0.588  ...  0.241  0.249  0.238  0.231  0.218  0.180  0.164  0.160   \n",
       "\n",
       "     998    999  \n",
       "1  0.004 -0.031  \n",
       "2  0.057 -0.056  \n",
       "3 -0.266 -0.288  \n",
       "4 -0.910 -0.899  \n",
       "5  0.157  0.148  \n",
       "\n",
       "[5 rows x 1005 columns]"
      ]
     },
     "execution_count": 18,
     "metadata": {},
     "output_type": "execute_result"
    }
   ],
   "source": [
    "Y.head()"
   ]
  },
  {
   "cell_type": "code",
   "execution_count": 19,
   "metadata": {
    "scrolled": true
   },
   "outputs": [
    {
     "data": {
      "image/png": "[encoded data removed]",
      "text/plain": [
       "<Figure size 1152x288 with 1 Axes>"
      ]
     },
     "metadata": {
      "needs_background": "light"
     },
     "output_type": "display_data"
    }
   ],
   "source": [
    "record = wfdb.rdrecord(path+'records100/00000/00001_lr', channels=[1])\n",
    "wfdb.plot_wfdb(record=record, title='данные с датчика 2',figsize=(16,4))"
   ]
  },
  {
   "cell_type": "code",
   "execution_count": 20,
   "metadata": {},
   "outputs": [
    {
     "name": "stdout",
     "output_type": "stream",
     "text": [
      "NORM       9083\n",
      "MI         4442\n",
      "STTC       2828\n",
      "HYP        2655\n",
      "CD         2422\n",
      "UNKNOWN     407\n",
      "Name: diagnostic_superclass, dtype: int64\n"
     ]
    }
   ],
   "source": [
    "print(Y['diagnostic_superclass'].value_counts())"
   ]
  },
  {
   "cell_type": "markdown",
   "metadata": {},
   "source": [
    "Распределение суперклассов:"
   ]
  },
  {
   "cell_type": "code",
   "execution_count": 21,
   "metadata": {},
   "outputs": [
    {
     "data": {
      "image/png": "[encoded data removed]",
      "text/plain": [
       "<Figure size 432x288 with 1 Axes>"
      ]
     },
     "metadata": {
      "needs_background": "light"
     },
     "output_type": "display_data"
    }
   ],
   "source": [
    "sns.countplot(y ='diagnostic_superclass', data=Y, order = Y['diagnostic_superclass'].value_counts().index)\n",
    "pass"
   ]
  },
  {
   "cell_type": "markdown",
   "metadata": {},
   "source": [
    "## Решение задачи классификации:"
   ]
  },
  {
   "cell_type": "markdown",
   "metadata": {},
   "source": [
    "#### Разбиение на обучающую и тестовую выборки"
   ]
  },
  {
   "cell_type": "code",
   "execution_count": 22,
   "metadata": {},
   "outputs": [],
   "source": [
    "y = Y['diagnostic_superclass']\n",
    "X = Y.drop('diagnostic_superclass', axis = 1)"
   ]
  },
  {
   "cell_type": "code",
   "execution_count": 55,
   "metadata": {},
   "outputs": [
    {
     "name": "stdout",
     "output_type": "stream",
     "text": [
      "x: (21837, 1004)\n",
      "y: (21837,)\n"
     ]
    }
   ],
   "source": [
    "print(\"X:\", X.shape)\n",
    "print(\"y:\", y.shape)"
   ]
  },
  {
   "cell_type": "code",
   "execution_count": 58,
   "metadata": {},
   "outputs": [
    {
     "name": "stdout",
     "output_type": "stream",
     "text": [
      "X_train : (16377, 1004)\n",
      "y_train : (16377,)\n",
      "X_test : (5460, 1004)\n",
      "y_test : (5460,)\n"
     ]
    }
   ],
   "source": [
    "from sklearn.model_selection import train_test_split\n",
    "X_train, X_test, y_train, y_test = train_test_split(X, y, test_size = 0.25, random_state = 21)\n",
    "\n",
    "print(\"X_train :\", X_train.shape)\n",
    "print(\"y_train :\", y_train.shape)\n",
    "print(\"X_test :\", X_test.shape)\n",
    "print(\"y_test :\", y_test.shape)"
   ]
  },
  {
   "cell_type": "markdown",
   "metadata": {},
   "source": [
    "#### Обработка численных признаков"
   ]
  },
  {
   "cell_type": "markdown",
   "metadata": {},
   "source": [
    "Чтобы нормализовать численные признаки, воспользуемся линейным преобразованием, приводящим все значения к нулевому среднему и единичному стандартному отклонению."
   ]
  },
  {
   "cell_type": "code",
   "execution_count": 69,
   "metadata": {},
   "outputs": [],
   "source": [
    "sc = sklearn.preprocessing.StandardScaler()\n",
    "X_train = sc.fit_transform(X_train)\n",
    "X_test  = sc.transform(X_test)"
   ]
  },
  {
   "cell_type": "code",
   "execution_count": 64,
   "metadata": {},
   "outputs": [
    {
     "data": {
      "text/html": [
       "<div>\n",
       "<style scoped>\n",
       "    .dataframe tbody tr th:only-of-type {\n",
       "        vertical-align: middle;\n",
       "    }\n",
       "\n",
       "    .dataframe tbody tr th {\n",
       "        vertical-align: top;\n",
       "    }\n",
       "\n",
       "    .dataframe thead th {\n",
       "        text-align: right;\n",
       "    }\n",
       "</style>\n",
       "<table border=\"1\" class=\"dataframe\">\n",
       "  <thead>\n",
       "    <tr style=\"text-align: right;\">\n",
       "      <th></th>\n",
       "      <th>0</th>\n",
       "      <th>1</th>\n",
       "      <th>2</th>\n",
       "      <th>3</th>\n",
       "      <th>4</th>\n",
       "      <th>5</th>\n",
       "      <th>6</th>\n",
       "      <th>7</th>\n",
       "      <th>8</th>\n",
       "      <th>9</th>\n",
       "      <th>...</th>\n",
       "      <th>994</th>\n",
       "      <th>995</th>\n",
       "      <th>996</th>\n",
       "      <th>997</th>\n",
       "      <th>998</th>\n",
       "      <th>999</th>\n",
       "      <th>1000</th>\n",
       "      <th>1001</th>\n",
       "      <th>1002</th>\n",
       "      <th>1003</th>\n",
       "    </tr>\n",
       "  </thead>\n",
       "  <tbody>\n",
       "    <tr>\n",
       "      <th>count</th>\n",
       "      <td>5460.000000</td>\n",
       "      <td>5460.000000</td>\n",
       "      <td>5460.000000</td>\n",
       "      <td>5460.000000</td>\n",
       "      <td>5460.000000</td>\n",
       "      <td>5460.000000</td>\n",
       "      <td>5460.000000</td>\n",
       "      <td>5460.000000</td>\n",
       "      <td>5460.000000</td>\n",
       "      <td>5460.000000</td>\n",
       "      <td>...</td>\n",
       "      <td>5460.000000</td>\n",
       "      <td>5460.000000</td>\n",
       "      <td>5460.000000</td>\n",
       "      <td>5460.000000</td>\n",
       "      <td>5460.000000</td>\n",
       "      <td>5460.000000</td>\n",
       "      <td>5460.000000</td>\n",
       "      <td>5460.000000</td>\n",
       "      <td>5460.000000</td>\n",
       "      <td>5460.000000</td>\n",
       "    </tr>\n",
       "    <tr>\n",
       "      <th>mean</th>\n",
       "      <td>0.000444</td>\n",
       "      <td>0.009847</td>\n",
       "      <td>-0.016441</td>\n",
       "      <td>-0.016772</td>\n",
       "      <td>-0.011968</td>\n",
       "      <td>-0.011719</td>\n",
       "      <td>-0.013363</td>\n",
       "      <td>-0.016557</td>\n",
       "      <td>-0.015124</td>\n",
       "      <td>-0.011712</td>\n",
       "      <td>...</td>\n",
       "      <td>-0.007029</td>\n",
       "      <td>-0.005682</td>\n",
       "      <td>0.002119</td>\n",
       "      <td>-0.001831</td>\n",
       "      <td>0.006683</td>\n",
       "      <td>0.011642</td>\n",
       "      <td>0.013956</td>\n",
       "      <td>0.005570</td>\n",
       "      <td>0.006215</td>\n",
       "      <td>0.021801</td>\n",
       "    </tr>\n",
       "    <tr>\n",
       "      <th>std</th>\n",
       "      <td>0.998498</td>\n",
       "      <td>1.000483</td>\n",
       "      <td>0.993876</td>\n",
       "      <td>1.002049</td>\n",
       "      <td>0.967774</td>\n",
       "      <td>0.985583</td>\n",
       "      <td>0.995620</td>\n",
       "      <td>0.985602</td>\n",
       "      <td>0.958546</td>\n",
       "      <td>0.960629</td>\n",
       "      <td>...</td>\n",
       "      <td>1.028010</td>\n",
       "      <td>1.013971</td>\n",
       "      <td>1.040188</td>\n",
       "      <td>1.029633</td>\n",
       "      <td>1.023622</td>\n",
       "      <td>1.043930</td>\n",
       "      <td>1.053805</td>\n",
       "      <td>1.064385</td>\n",
       "      <td>1.074046</td>\n",
       "      <td>1.112139</td>\n",
       "    </tr>\n",
       "    <tr>\n",
       "      <th>min</th>\n",
       "      <td>-3.489325</td>\n",
       "      <td>-0.956317</td>\n",
       "      <td>-0.686608</td>\n",
       "      <td>-0.841299</td>\n",
       "      <td>-9.285061</td>\n",
       "      <td>-9.102220</td>\n",
       "      <td>-9.019816</td>\n",
       "      <td>-9.207227</td>\n",
       "      <td>-9.191609</td>\n",
       "      <td>-9.335043</td>\n",
       "      <td>...</td>\n",
       "      <td>-25.863401</td>\n",
       "      <td>-25.386842</td>\n",
       "      <td>-25.275323</td>\n",
       "      <td>-24.716597</td>\n",
       "      <td>-24.669282</td>\n",
       "      <td>-24.416852</td>\n",
       "      <td>-23.911798</td>\n",
       "      <td>-23.196525</td>\n",
       "      <td>-22.405818</td>\n",
       "      <td>-22.186732</td>\n",
       "    </tr>\n",
       "    <tr>\n",
       "      <th>25%</th>\n",
       "      <td>-0.552107</td>\n",
       "      <td>-0.956317</td>\n",
       "      <td>-0.686608</td>\n",
       "      <td>-0.841299</td>\n",
       "      <td>-0.398707</td>\n",
       "      <td>-0.404312</td>\n",
       "      <td>-0.397317</td>\n",
       "      <td>-0.405094</td>\n",
       "      <td>-0.404451</td>\n",
       "      <td>-0.404929</td>\n",
       "      <td>...</td>\n",
       "      <td>-0.380194</td>\n",
       "      <td>-0.385019</td>\n",
       "      <td>-0.386288</td>\n",
       "      <td>-0.380631</td>\n",
       "      <td>-0.385409</td>\n",
       "      <td>-0.387375</td>\n",
       "      <td>-0.387600</td>\n",
       "      <td>-0.390868</td>\n",
       "      <td>-0.389533</td>\n",
       "      <td>-0.395940</td>\n",
       "    </tr>\n",
       "    <tr>\n",
       "      <th>50%</th>\n",
       "      <td>0.081411</td>\n",
       "      <td>-0.956317</td>\n",
       "      <td>-0.686608</td>\n",
       "      <td>-0.841299</td>\n",
       "      <td>-0.100915</td>\n",
       "      <td>-0.098430</td>\n",
       "      <td>-0.098129</td>\n",
       "      <td>-0.092856</td>\n",
       "      <td>-0.092356</td>\n",
       "      <td>-0.095790</td>\n",
       "      <td>...</td>\n",
       "      <td>-0.091645</td>\n",
       "      <td>-0.101878</td>\n",
       "      <td>-0.099836</td>\n",
       "      <td>-0.097531</td>\n",
       "      <td>-0.088554</td>\n",
       "      <td>-0.080403</td>\n",
       "      <td>-0.067241</td>\n",
       "      <td>-0.065884</td>\n",
       "      <td>-0.062685</td>\n",
       "      <td>-0.056172</td>\n",
       "    </tr>\n",
       "    <tr>\n",
       "      <th>75%</th>\n",
       "      <td>0.714929</td>\n",
       "      <td>1.045678</td>\n",
       "      <td>1.336851</td>\n",
       "      <td>0.962817</td>\n",
       "      <td>0.284391</td>\n",
       "      <td>0.296257</td>\n",
       "      <td>0.304058</td>\n",
       "      <td>0.298680</td>\n",
       "      <td>0.303047</td>\n",
       "      <td>0.308084</td>\n",
       "      <td>...</td>\n",
       "      <td>0.282401</td>\n",
       "      <td>0.277423</td>\n",
       "      <td>0.298238</td>\n",
       "      <td>0.292400</td>\n",
       "      <td>0.303720</td>\n",
       "      <td>0.299031</td>\n",
       "      <td>0.289580</td>\n",
       "      <td>0.295210</td>\n",
       "      <td>0.299912</td>\n",
       "      <td>0.330504</td>\n",
       "    </tr>\n",
       "    <tr>\n",
       "      <th>max</th>\n",
       "      <td>1.981964</td>\n",
       "      <td>1.045678</td>\n",
       "      <td>1.833172</td>\n",
       "      <td>5.917405</td>\n",
       "      <td>9.068644</td>\n",
       "      <td>9.734202</td>\n",
       "      <td>9.284601</td>\n",
       "      <td>10.275422</td>\n",
       "      <td>8.469744</td>\n",
       "      <td>9.298032</td>\n",
       "      <td>...</td>\n",
       "      <td>18.578585</td>\n",
       "      <td>10.598688</td>\n",
       "      <td>10.605125</td>\n",
       "      <td>10.131480</td>\n",
       "      <td>9.601671</td>\n",
       "      <td>9.779600</td>\n",
       "      <td>11.249481</td>\n",
       "      <td>12.876752</td>\n",
       "      <td>13.200199</td>\n",
       "      <td>11.435085</td>\n",
       "    </tr>\n",
       "  </tbody>\n",
       "</table>\n",
       "<p>8 rows × 1004 columns</p>\n",
       "</div>"
      ],
      "text/plain": [
       "              0            1            2            3            4     \\\n",
       "count  5460.000000  5460.000000  5460.000000  5460.000000  5460.000000   \n",
       "mean      0.000444     0.009847    -0.016441    -0.016772    -0.011968   \n",
       "std       0.998498     1.000483     0.993876     1.002049     0.967774   \n",
       "min      -3.489325    -0.956317    -0.686608    -0.841299    -9.285061   \n",
       "25%      -0.552107    -0.956317    -0.686608    -0.841299    -0.398707   \n",
       "50%       0.081411    -0.956317    -0.686608    -0.841299    -0.100915   \n",
       "75%       0.714929     1.045678     1.336851     0.962817     0.284391   \n",
       "max       1.981964     1.045678     1.833172     5.917405     9.068644   \n",
       "\n",
       "              5            6            7            8            9     ...  \\\n",
       "count  5460.000000  5460.000000  5460.000000  5460.000000  5460.000000  ...   \n",
       "mean     -0.011719    -0.013363    -0.016557    -0.015124    -0.011712  ...   \n",
       "std       0.985583     0.995620     0.985602     0.958546     0.960629  ...   \n",
       "min      -9.102220    -9.019816    -9.207227    -9.191609    -9.335043  ...   \n",
       "25%      -0.404312    -0.397317    -0.405094    -0.404451    -0.404929  ...   \n",
       "50%      -0.098430    -0.098129    -0.092856    -0.092356    -0.095790  ...   \n",
       "75%       0.296257     0.304058     0.298680     0.303047     0.308084  ...   \n",
       "max       9.734202     9.284601    10.275422     8.469744     9.298032  ...   \n",
       "\n",
       "              994          995          996          997          998   \\\n",
       "count  5460.000000  5460.000000  5460.000000  5460.000000  5460.000000   \n",
       "mean     -0.007029    -0.005682     0.002119    -0.001831     0.006683   \n",
       "std       1.028010     1.013971     1.040188     1.029633     1.023622   \n",
       "min     -25.863401   -25.386842   -25.275323   -24.716597   -24.669282   \n",
       "25%      -0.380194    -0.385019    -0.386288    -0.380631    -0.385409   \n",
       "50%      -0.091645    -0.101878    -0.099836    -0.097531    -0.088554   \n",
       "75%       0.282401     0.277423     0.298238     0.292400     0.303720   \n",
       "max      18.578585    10.598688    10.605125    10.131480     9.601671   \n",
       "\n",
       "              999          1000         1001         1002         1003  \n",
       "count  5460.000000  5460.000000  5460.000000  5460.000000  5460.000000  \n",
       "mean      0.011642     0.013956     0.005570     0.006215     0.021801  \n",
       "std       1.043930     1.053805     1.064385     1.074046     1.112139  \n",
       "min     -24.416852   -23.911798   -23.196525   -22.405818   -22.186732  \n",
       "25%      -0.387375    -0.387600    -0.390868    -0.389533    -0.395940  \n",
       "50%      -0.080403    -0.067241    -0.065884    -0.062685    -0.056172  \n",
       "75%       0.299031     0.289580     0.295210     0.299912     0.330504  \n",
       "max       9.779600    11.249481    12.876752    13.200199    11.435085  \n",
       "\n",
       "[8 rows x 1004 columns]"
      ]
     },
     "execution_count": 64,
     "metadata": {},
     "output_type": "execute_result"
    }
   ],
   "source": [
    "X_test = pd.DataFrame(X_test)\n",
    "X_test.describe()"
   ]
  },
  {
   "cell_type": "markdown",
   "metadata": {},
   "source": [
    "#### Классификатор kNN"
   ]
  },
  {
   "cell_type": "code",
   "execution_count": 65,
   "metadata": {
    "scrolled": true
   },
   "outputs": [
    {
     "name": "stdout",
     "output_type": "stream",
     "text": [
      "neighbours = 1 train accuracy = 0.9998778775111437 test accuracy = 0.35018315018315016\n",
      "neighbours = 5 train accuracy = 0.44061793979361297 test accuracy = 0.32857142857142857\n",
      "neighbours = 7 train accuracy = 0.39488306771692006 test accuracy = 0.32161172161172163\n",
      "neighbours = 21 train accuracy = 0.2963302192098675 test accuracy = 0.2794871794871795\n",
      "neighbours = 51 train accuracy = 0.270806619038896 test accuracy = 0.2664835164835165\n",
      "neighbours = 121 train accuracy = 0.26500580081822067 test accuracy = 0.26483516483516484\n"
     ]
    }
   ],
   "source": [
    "from sklearn.neighbors import KNeighborsClassifier\n",
    "\n",
    "neighbors_array = np.array([1,5,7,21,51,121])\n",
    "for i in range (6):\n",
    "    knn = KNeighborsClassifier(n_neighbors = neighbors_array[i])\n",
    "    knn.fit(X_train, y_train)\n",
    "    print('neighbours =',neighbors_array[i],'train accuracy =',knn.score(X_train, y_train),'test accuracy =', knn.score(X_test, y_test))\n",
    "    "
   ]
  },
  {
   "cell_type": "markdown",
   "metadata": {},
   "source": [
    "Так как kNN с одним соседом показывет лучшие результаты на тестовой выборке, построим матрицу ошибок для него:"
   ]
  },
  {
   "cell_type": "code",
   "execution_count": 102,
   "metadata": {},
   "outputs": [
    {
     "name": "stdout",
     "output_type": "stream",
     "text": [
      "[[ 834 1148  269   98   40    1]\n",
      " [ 224  922  117   95   14    2]\n",
      " [ 179  583  100   36   16    0]\n",
      " [ 108  256   63   32    7    2]\n",
      " [  79   96   25   11    6    0]\n",
      " [  13   37    9   13    7   18]]\n"
     ]
    }
   ],
   "source": [
    "knn = KNeighborsClassifier(n_neighbors = 1)\n",
    "knn.fit(X_train, y_train)\n",
    "print(confusion_matrix(y_test, knn.predict(X_test), labels=[\"NORM\", \"MI\", \"STTC\", \"CD\", \"HYP\", \"UNKNOWN\"]))"
   ]
  },
  {
   "cell_type": "markdown",
   "metadata": {},
   "source": [
    "834 раз - верно предсказал NORM; 922 раза - верно предсказал MI; 100 раз - верно предсказал STTC; 32 раза - верно предсказал CD; 6 раз- верно предсказал HYP и 18 раз - верно предсказал UNKNOWN.  "
   ]
  },
  {
   "cell_type": "markdown",
   "metadata": {},
   "source": [
    "Метод ближайших соседей показал наибольшую точность для одного соседа $\\approx$ 35%"
   ]
  },
  {
   "cell_type": "markdown",
   "metadata": {},
   "source": [
    "#### Random Forest"
   ]
  },
  {
   "cell_type": "code",
   "execution_count": 73,
   "metadata": {},
   "outputs": [
    {
     "name": "stdout",
     "output_type": "stream",
     "text": [
      "trees = 10 train accuracy = 0.9896195884472125 test accuracy = 0.4716117216117216\n",
      "trees = 25 train accuracy = 0.9998778775111437 test accuracy = 0.5084249084249084\n",
      "trees = 50 train accuracy = 0.9998778775111437 test accuracy = 0.5225274725274726\n",
      "trees = 100 train accuracy = 0.9998778775111437 test accuracy = 0.5274725274725275\n",
      "trees = 200 train accuracy = 0.9998778775111437 test accuracy = 0.5232600732600733\n"
     ]
    }
   ],
   "source": [
    "from sklearn.ensemble import RandomForestClassifier\n",
    "\n",
    "trees_array = np.array([10,25,50,100,200])\n",
    "for i in range (5):\n",
    "    rfc = RandomForestClassifier(n_estimators = trees_array[i])\n",
    "    rfc.fit(X_train, y_train)\n",
    "    print('trees =',trees_array[i],'train accuracy =',rfc.score(X_train, y_train),'test accuracy =', rfc.score(X_test, y_test))\n",
    "     "
   ]
  },
  {
   "cell_type": "code",
   "execution_count": 87,
   "metadata": {},
   "outputs": [
    {
     "name": "stdout",
     "output_type": "stream",
     "text": [
      "[[2248  134    8    0    0    0]\n",
      " [ 736  610   24    4    0    0]\n",
      " [ 643  243   27    1    0    0]\n",
      " [ 276  177    9    6    0    0]\n",
      " [ 173   41    3    0    0    0]\n",
      " [  41   41    9    3    0    3]]\n"
     ]
    }
   ],
   "source": [
    "rfc = RandomForestClassifier(n_estimators = 100)\n",
    "rfc.fit(X_train, y_train)\n",
    "print(confusion_matrix(y_test, rf.predict(X_test), labels=[\"NORM\", \"MI\", \"STTC\", \"CD\", \"HYP\", \"UNKNOWN\"]))"
   ]
  },
  {
   "cell_type": "markdown",
   "metadata": {},
   "source": [
    "2248 раз - верно предсказал NORM; 610 раз - верно предсказал MI; 27 раз - верно предсказал STTC ; 6 раз - верно предсказал CD и 3 раза верно предсказал UNKNOWN"
   ]
  },
  {
   "cell_type": "markdown",
   "metadata": {},
   "source": [
    "Классификатор никогда не предсказывает HYP"
   ]
  },
  {
   "cell_type": "markdown",
   "metadata": {},
   "source": [
    "#### Сверточная нейронная сеть (CNN)"
   ]
  },
  {
   "cell_type": "markdown",
   "metadata": {},
   "source": [
    "![title](cnn.jpg) \n",
    "\n",
    "<center>Иллюстрация архитектуры сверточной нейронной сети (CNN).</center>"
   ]
  },
  {
   "cell_type": "markdown",
   "metadata": {},
   "source": [
    "Опираясь на статьи [2], [3], [4] попробуем построить и затем обучить сверточную нейронную сеть, на данный момент параметры этой сети не подбирались."
   ]
  },
  {
   "cell_type": "code",
   "execution_count": 23,
   "metadata": {},
   "outputs": [],
   "source": [
    "from sklearn.preprocessing import LabelEncoder\n",
    "from keras.utils import to_categorical\n",
    "X = np.array(X)\n",
    "y = np.array(y.tolist())\n",
    "le = LabelEncoder()\n",
    "yy = to_categorical(le.fit_transform(y))"
   ]
  },
  {
   "cell_type": "code",
   "execution_count": 24,
   "metadata": {},
   "outputs": [],
   "source": [
    "from sklearn.model_selection import train_test_split \n",
    "x_train, x_test, y_train, y_test = train_test_split(X, yy, test_size=0.2, random_state = 21)"
   ]
  },
  {
   "cell_type": "code",
   "execution_count": 25,
   "metadata": {},
   "outputs": [
    {
     "name": "stdout",
     "output_type": "stream",
     "text": [
      "(17469, 1004)\n",
      "(4368, 1004)\n",
      "(17469, 6)\n",
      "(4368, 6)\n"
     ]
    }
   ],
   "source": [
    "print(x_train.shape)\n",
    "print(x_test.shape)\n",
    "print(y_train.shape)\n",
    "print(y_test.shape)"
   ]
  },
  {
   "cell_type": "code",
   "execution_count": 216,
   "metadata": {},
   "outputs": [],
   "source": [
    "def CNN(x_train,y_train,x_test,y_test):\n",
    "    im_shape=(x_train.shape[1],1)\n",
    "    inputs_cnn=Input(shape=(im_shape))\n",
    "    \n",
    "    conv1_1=Convolution1D(64, (6), activation='relu', input_shape=im_shape)(inputs_cnn)\n",
    "    conv1_1=BatchNormalization()(conv1_1)\n",
    "    pool1=MaxPool1D(pool_size=(3), strides=(2), padding=\"same\")(conv1_1)\n",
    "    \n",
    "    conv2_1=Convolution1D(64, (3), activation='relu', input_shape=im_shape)(pool1)\n",
    "    conv2_1=BatchNormalization()(conv2_1)\n",
    "    pool2=MaxPool1D(pool_size=(2), strides=(2), padding=\"same\")(conv2_1)\n",
    "    \n",
    "    conv3_1=Convolution1D(64, (3), activation='relu', input_shape=im_shape)(pool2)\n",
    "    conv3_1=BatchNormalization()(conv3_1)\n",
    "    pool3=MaxPool1D(pool_size=(2), strides=(2), padding=\"same\")(conv3_1)\n",
    "    \n",
    "    flatten=Flatten()(pool3)\n",
    "    dense_end1 = Dense(64, activation='relu')(flatten)\n",
    "    dense_end2 = Dense(32, activation='relu')(dense_end1)\n",
    "    main_output = Dense(6, activation='softmax', name='main_output')(dense_end2)\n",
    "    \n",
    "    model = Model(inputs = inputs_cnn, outputs = main_output)\n",
    "    model.compile(optimizer='adam', loss='categorical_crossentropy',metrics = ['accuracy'])\n",
    "    \n",
    "    history=model.fit(x_train, y_train, epochs=12, batch_size=32,validation_data=(x_test,y_test))\n",
    "    return(model,history)"
   ]
  },
  {
   "cell_type": "code",
   "execution_count": 217,
   "metadata": {
    "scrolled": false
   },
   "outputs": [
    {
     "name": "stdout",
     "output_type": "stream",
     "text": [
      "Epoch 1/12\n",
      "546/546 [==============================] - 117s 214ms/step - loss: 1.1734 - accuracy: 0.5747 - val_loss: 1.3812 - val_accuracy: 0.5167\n",
      "Epoch 2/12\n",
      "546/546 [==============================] - 112s 205ms/step - loss: 0.9909 - accuracy: 0.6398 - val_loss: 1.0520 - val_accuracy: 0.6099\n",
      "Epoch 3/12\n",
      "546/546 [==============================] - 115s 210ms/step - loss: 0.9098 - accuracy: 0.6685 - val_loss: 1.0240 - val_accuracy: 0.6298\n",
      "Epoch 4/12\n",
      "546/546 [==============================] - 159s 290ms/step - loss: 0.8296 - accuracy: 0.6974 - val_loss: 1.0258 - val_accuracy: 0.6413\n",
      "Epoch 5/12\n",
      "546/546 [==============================] - 145s 266ms/step - loss: 0.7305 - accuracy: 0.7323 - val_loss: 1.1357 - val_accuracy: 0.5966\n",
      "Epoch 6/12\n",
      "546/546 [==============================] - 145s 265ms/step - loss: 0.6099 - accuracy: 0.7753 - val_loss: 1.2143 - val_accuracy: 0.5996\n",
      "Epoch 7/12\n",
      "546/546 [==============================] - 147s 269ms/step - loss: 0.4818 - accuracy: 0.8228 - val_loss: 1.3687 - val_accuracy: 0.6161\n",
      "Epoch 8/12\n",
      "546/546 [==============================] - 145s 266ms/step - loss: 0.3712 - accuracy: 0.8650 - val_loss: 1.5323 - val_accuracy: 0.6005\n",
      "Epoch 9/12\n",
      "546/546 [==============================] - 142s 260ms/step - loss: 0.2895 - accuracy: 0.8962 - val_loss: 1.7482 - val_accuracy: 0.6051\n",
      "Epoch 10/12\n",
      "546/546 [==============================] - 149s 274ms/step - loss: 0.2270 - accuracy: 0.9204 - val_loss: 2.0249 - val_accuracy: 0.5927\n",
      "Epoch 11/12\n",
      "546/546 [==============================] - 141s 257ms/step - loss: 0.1645 - accuracy: 0.9433 - val_loss: 2.2689 - val_accuracy: 0.5746\n",
      "Epoch 12/12\n",
      "546/546 [==============================] - 142s 260ms/step - loss: 0.1544 - accuracy: 0.9460 - val_loss: 2.4397 - val_accuracy: 0.5403\n"
     ]
    }
   ],
   "source": [
    "from keras.layers import Dense, Convolution1D, MaxPool1D, Flatten, Dropout\n",
    "from keras.layers import Input\n",
    "from keras.models import Model\n",
    "from keras.layers.normalization import BatchNormalization\n",
    "import keras\n",
    "from keras.callbacks import EarlyStopping, ModelCheckpoint\n",
    "\n",
    "model, history = CNN(x_train,y_train,x_test,y_test)"
   ]
  },
  {
   "cell_type": "code",
   "execution_count": 222,
   "metadata": {},
   "outputs": [],
   "source": [
    "def evaluate_model(history,X_test,y_test,model):\n",
    "    scores = model.evaluate((X_test),y_test, verbose=0)\n",
    "    print(history)\n",
    "    fig1, ax_acc = plt.subplots()\n",
    "    plt.plot(history.history['accuracy'])\n",
    "    plt.plot(history.history['val_accuracy'])\n",
    "    plt.xlabel('Epoch')\n",
    "    plt.ylabel('Accuracy')\n",
    "    plt.title('Model - Accuracy')\n",
    "    plt.legend(['Training', 'Validation'], loc='lower right')\n",
    "    plt.show()"
   ]
  },
  {
   "cell_type": "code",
   "execution_count": 225,
   "metadata": {},
   "outputs": [
    {
     "name": "stdout",
     "output_type": "stream",
     "text": [
      "<tensorflow.python.keras.callbacks.History object at 0x000001ECB46830A0>\n"
     ]
    },
    {
     "data": {
      "image/png": "[encoded data removed]",
      "text/plain": [
       "<Figure size 432x288 with 1 Axes>"
      ]
     },
     "metadata": {
      "needs_background": "light"
     },
     "output_type": "display_data"
    }
   ],
   "source": [
    "evaluate_model(history,x_test,y_test,model)"
   ]
  },
  {
   "cell_type": "markdown",
   "metadata": {},
   "source": [
    "При использовании CNN на тестовой выборке была достигнута точность 64%"
   ]
  },
  {
   "cell_type": "markdown",
   "metadata": {},
   "source": [
    "## Заключение"
   ]
  },
  {
   "cell_type": "markdown",
   "metadata": {},
   "source": [
    "* методы обучения kNN и Random Forest показывают малую точность классификации для данного набора данных, это может быть связано с тем, что эти методы не могут найти наиболее подходящие признаки, которые обеспечат высокую точность классификации в этой задаче ЭКГ.\n",
    "* kNN показал точность $\\approx$ 35% при использовании 1 ближайшего соседа, при этом он приемужественно классифицировал все классы как MI.\n",
    "* Random Forest показал точность $\\approx$ 52%, приемужественно классифицировал все классы как NORM и ни разу не классифицировал HYP.\n",
    "* была обнаружена несбаланисрованность классов, с которой нужно будет побороться.\n",
    "* при увеличении количества эпох CNN наблюдается переобучение, при epoch = 12 точность на тренировочной выборке составляет 94.6%, а на тестововй 54%.\n",
    "* CNN показал самую высокую точность $\\approx$ 64% среди всех примененных на данный момент методов на тестовой выборке."
   ]
  },
  {
   "cell_type": "markdown",
   "metadata": {},
   "source": [
    "##### На данный момент можно сделать следующий вывод:\n",
    "* для данной задачи необходимо использовать методы глубокого обучения, чтобы находить абстрактные признаки, которые повысят точность классификации. "
   ]
  },
  {
   "cell_type": "markdown",
   "metadata": {},
   "source": [
    "## Список литературы"
   ]
  },
  {
   "cell_type": "markdown",
   "metadata": {},
   "source": [
    "1. Wagner P. et al. PTB-XL, a large publicly available electrocardiography dataset //Scientific Data. – 2020. – Т. 7. – №. 1. – С. 1-15.\n",
    "2. Ebrahimi Z. et al. A review on deep learning methods for ECG arrhythmia classification //Expert Systems with Applications: X. – 2020. – С. 100033.\n",
    "3. Pyakillya B., Kazachenko N., Mikhailovsky N. Deep learning for ECG classification //Journal of physics: conference series. – 2017. – Т. 913. – №. 1.\n",
    "4. Victor Moskalenko, Nikolai Zolotykh, and Grigory Osipov. Deep learning for ecg segmentation. In International Conference on Neuroinformatics, pages 246–254. Springer, 2019."
   ]
  }
 ],
 "metadata": {
  "kernelspec": {
   "display_name": "Python 3.8.3 (tensorflow)",
   "language": "python",
   "name": "tensorflow1"
  },
  "language_info": {
   "codemirror_mode": {
    "name": "ipython",
    "version": 3
   },
   "file_extension": ".py",
   "mimetype": "text/x-python",
   "name": "python",
   "nbconvert_exporter": "python",
   "pygments_lexer": "ipython3",
   "version": "3.8.3"
  }
 },
 "nbformat": 4,
 "nbformat_minor": 4
}
